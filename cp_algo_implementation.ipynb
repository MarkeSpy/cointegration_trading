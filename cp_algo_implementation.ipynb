{
 "cells": [
  {
   "cell_type": "markdown",
   "id": "5e805c7c-8de1-43cc-aa2f-586236276747",
   "metadata": {},
   "source": [
    "# This notebook will be utilised to develop and implement the cointegration pairs strategy model."
   ]
  },
  {
   "cell_type": "markdown",
   "id": "a9c660ce",
   "metadata": {},
   "source": [
    "Import necessary libraries/modules."
   ]
  },
  {
   "cell_type": "code",
   "execution_count": 1,
   "id": "e7ac4a44",
   "metadata": {},
   "outputs": [],
   "source": [
    "import numpy as np # This module is imported to allow for array computations and data manipulations.\n",
    "import pandas as pd # Same as above.\n",
    "from statsmodels.tsa.stattools import coint, adfuller  # This module is imported for the Engle-Granger cointegration test implementation.\n",
    "import time # Imported to time code.\n",
    "import os # imported to handle directories and pathnames.\n",
    "import glob # same as os.\n",
    "import vectorbt as vbt # This library will be utilised to perform the backtesting of the algo strategy across the historical data.\n",
    "import statsmodels.api as sm # Used for regression fitting in the Engle-Granger cointegration test.\n",
    "import itertools"
   ]
  },
  {
   "cell_type": "markdown",
   "id": "7f85c9a9",
   "metadata": {},
   "source": [
    "Load the open-high-low-close-volume data generated in market_generator.py."
   ]
  },
  {
   "cell_type": "code",
   "execution_count": 3,
   "id": "2d276ee1",
   "metadata": {},
   "outputs": [],
   "source": [
    "# Directory where the generated CSV files are stored.\n",
    "\n",
    "### Make sure you use the correct path where the csv are stored !!!\n",
    "\n",
    "csv_dir = '/Users/spyros_marke/Desktop/MCE_assessment'\n",
    "\n",
    "# List of all CSV files in the directory\n",
    "csv_files = glob.glob(os.path.join(csv_dir, '*.csv'))\n",
    "\n",
    "# Storing data in a dictionary where the key is the trading-pair name\n",
    "# and the value is the dataframe itself.\n",
    "\n",
    "data_dict = {}\n",
    "\n",
    "for file in csv_files:\n",
    "    pair = os.path.basename(file).replace('_data.csv', '').replace('_', '/')\n",
    "    df = pd.read_csv(file)\n",
    "    data_dict[pair] = df"
   ]
  },
  {
   "cell_type": "markdown",
   "id": "703096ee",
   "metadata": {},
   "source": [
    "We have the required data for ~n markets (depending the number chosen in market_generator.py) in monthly availability and minute resolution.  Next steps are developing the cointegrated pairs strategy and backtest it across the monthly history of the trading pairs."
   ]
  },
  {
   "cell_type": "markdown",
   "id": "d7df20ef",
   "metadata": {},
   "source": [
    "# An introduction to Cointegration."
   ]
  },
  {
   "cell_type": "markdown",
   "id": "4bdaa729",
   "metadata": {},
   "source": [
    "The word \"integration\" within cointegration refers to an integrated time series of order d denoted by I(d). \n",
    "In general, price,rate and yield data can be assumed to be I(1) series while returns can be assumed to be I(0) series.\n",
    "What is convenient about I(0) series is that they are $\\textbf{weak-sense stationary} $. \n",
    "This implies that the mean and variance of the time series are finite and do not change over time. \n",
    "Effectively, if the time series wanders far from the mean, the time-invariant property will \"drag\" the series back to make sure that its mean will not change.\n",
    "\n",
    "But returns are I(0) and we cannot trade returns.\n",
    "What we can actually trade is the prices and they are non-stationary, so we can try and create stationarity by looking at pairs of assets.\n",
    "According to Alexander (2002) $x_t$ and $y_t$ are cointegrated, if $x_t$ and $y_t$ are I(1) series such that:\n",
    "\n",
    "$z_t = x_t -\\beta*y_t$ is an I(0) series.\n",
    "\n",
    "Cointegrations allows to construct a stationary time series from 2 asset prices, if only we can find the cointegration coefficient $\\beta$. \n",
    "Then we can apply a mean-reversion strategy to trade both assets at the same time weighted by $\\beta$. \n",
    "There is no guarantee that such $\\beta$ always exists, and you should look for other asset pairs if no such $\\beta$ can be found."
   ]
  },
  {
   "cell_type": "markdown",
   "id": "5470a043",
   "metadata": {},
   "source": [
    "# How to find $\\beta$?"
   ]
  },
  {
   "cell_type": "markdown",
   "id": "f7dff19f",
   "metadata": {},
   "source": [
    "The two workhorses of finding the cointegration coefficient $\\beta$ \n",
    "(or cointegration vector when there are more than 2 assets) are the Engle-Granger test (Engle, 1987) and the Johansen test.\n",
    "\n",
    "We will start woring with the Engle-Granger test as it is much simpler and works well for pairs of assets. \n",
    "\n",
    "The idea of Engle-Granger test is that we perform a linear regression between the two asset prices and check if the residual is stationary using the Augmented Dick-Fuller (ADF) test. If the residual is stationary, then the two asset prices are cointegrated. The cointegration coefficient is obtained as the coefficient of the regressor.\n",
    "\n",
    "One problem that arises is which variable should be chosen as dependent and which as independent. To overcome this caveat, we run the linear regression twice using each asset as the dependent variable, respectively. \n",
    "The final $\\beta$ would be the combination that yields a more significant ADF test.\n",
    "\n",
    "We expect the Engle-Granger test to work in our case because we are comparing pairs of two assets every time. But what if we have more than two assets? If we still apply the abovementioned heuristic, we will have to run multiple linear regressions, which is rather cumbersome. This is where Johansen test could come in handy. So if the results are insufficient we will have to revert to the Johansen approach."
   ]
  },
  {
   "cell_type": "markdown",
   "id": "606ba652",
   "metadata": {},
   "source": [
    "# Choose a number of trading pairs to perform cointegration for. \n",
    "\n",
    "In principle, you could use as many as you wanted generated from the .py file but the n choose 2 number\n",
    "of combinations are going to be enough for smaller numbers of n."
   ]
  },
  {
   "cell_type": "code",
   "execution_count": 16,
   "id": "eac7e285",
   "metadata": {},
   "outputs": [],
   "source": [
    "pairs = list(data_dict.keys())[10:25]"
   ]
  },
  {
   "cell_type": "code",
   "execution_count": 4,
   "id": "16105189",
   "metadata": {},
   "outputs": [],
   "source": [
    "def EG_cointegration(df1, df2):\n",
    "\n",
    "    \"\"\"\n",
    "    Function that performs regression between the two asset prices and checks\n",
    "    whether the residual is stationary utilising the ADF test. Note that the\n",
    "    regression is run with both series being used as dependent and independent \n",
    "    series so we can get the beta that yields the most significant ADF.\n",
    "    \"\"\"\n",
    "    \n",
    "    df1_const = sm.add_constant(df1)  # Add a constant term\n",
    "    model1 = sm.OLS(df2, df1_const).fit()\n",
    "    residuals1 = model1.resid\n",
    "    adf_result1 = adfuller(residuals1)\n",
    "    \n",
    "    df2_const = sm.add_constant(df2)  # Add a constant term\n",
    "    model2 = sm.OLS(df1, df2_const).fit()\n",
    "    residuals2 = model2.resid\n",
    "    adf_result2 = adfuller(residuals2)\n",
    "    \n",
    "    if adf_result1[1] < adf_result2[1]:\n",
    "        return adf_result1[1], model1.params.iloc[0],model1.params.iloc[1]  # Return p-value and beta\n",
    "    else:\n",
    "        return adf_result2[1], model2.params.iloc[0], model2.params.iloc[1]\n"
   ]
  },
  {
   "cell_type": "markdown",
   "id": "495f9d4c",
   "metadata": {},
   "source": [
    "The following cell produces a list with the cointegrated pairs of traidng pairs (assets). Their beta values will be used to calculate the spread to be utilised\n",
    "for the mean reversion trading strategy."
   ]
  },
  {
   "cell_type": "code",
   "execution_count": 5,
   "id": "cf42c425",
   "metadata": {},
   "outputs": [],
   "source": [
    "EG_results = []\n",
    "\n",
    "for i in range(len(pairs)):\n",
    "    for j in range(i+1,len(pairs)):\n",
    "\n",
    "        pair1 = data_dict[pairs[i]]['close']\n",
    "        pair2 = data_dict[pairs[j]]['close']\n",
    "        p_value,alpha,beta = EG_cointegration(pair1,pair2)\n",
    "\n",
    "        if p_value < 0.05:\n",
    "            # print(f'Null Hypothesis Rejected! Pairs {pairs[i]} and {pairs[j]} are cointegrated')\n",
    "            EG_results.append((pairs[i],pairs[j],p_value,beta))\n",
    "            \n",
    "for result in EG_results:\n",
    "    print(f\"Pair: {result[0]} and {result[1]}, P-value: {result[2]}, Cointegration coeeficient beta: {result[3]}\")"
   ]
  },
  {
   "cell_type": "markdown",
   "id": "faa7b828",
   "metadata": {},
   "source": [
    "After identifying cointegrated trading pairs, we have the pair names and the beta coefficients. We can then straightforwardly calculate \n",
    "the array of their spreads (throughout time).\n",
    "\n",
    "The aim is to develop a cointegration pairs trading strategy which identifies entry and exit points based on the spread between the pairs.\n",
    "With that consideration in hand we should implement a mean-reversion approach to exploit arbitrage opportunities.\n",
    "\n",
    "We can achieve that by calculating the Z-scores of the spreads as a metric to investigate how far the spread is from its mean. Then we can\n",
    "either long or short depending on the z-score given that the spread is classified as a cointegrated series and we expect it to revert back\n",
    "to its mean in the long run."
   ]
  },
  {
   "cell_type": "code",
   "execution_count": 6,
   "id": "34dc6c85",
   "metadata": {},
   "outputs": [],
   "source": [
    "def trading_strategy(cointegration_results, data_dict, entry_z, exit_z, window_frame):\n",
    "    \n",
    "    # Every result is a cointegration pair with a specific beta\n",
    "    # and its resulting spread is a series with entries the spread\n",
    "    # at every time t. Each cointegration pair has a specific beta,\n",
    "    # and hence a specific spread and means and stds.\n",
    "    # Z scores are also series that have a singular value at every point\n",
    "    # in time. \n",
    "    \n",
    "    trades = []\n",
    "\n",
    "    for result in cointegration_results:\n",
    "        \n",
    "        asset_1, asset_2, _, beta = result\n",
    "        spread = data_dict[asset_1]['close'] - beta * data_dict[asset_2]['close']\n",
    "\n",
    "        spread = spread.dropna().abs()\n",
    "\n",
    "        # Use rolling mean and standard deviation\n",
    "        rolling_mean = spread.rolling(window=window_frame).mean()\n",
    "        rolling_std = spread.rolling(window=window_frame).std()\n",
    "     \n",
    "        z_scores = (spread - rolling_mean) / rolling_std\n",
    "\n",
    "        \n",
    "        entries = ((z_scores >entry_z) | (z_scores<-entry_z))\n",
    "        exits =  ((z_scores<exit_z)&(z_scores>-exit_z))\n",
    "\n",
    "        # Align signals with the spread index\n",
    "        entries = entries.reindex(spread.index, fill_value=False)\n",
    "        exits = exits.reindex(spread.index, fill_value=False)\n",
    "        \n",
    "        if entries.sum() == 0:\n",
    "\n",
    "            print(f'No edge was found for pair {asset_1,asset_2}, do not trade it!')\n",
    "        \n",
    "        else:\n",
    "            trades.append((asset_1,asset_2,spread,entries,exits))\n",
    "        \n",
    "    return trades"
   ]
  },
  {
   "cell_type": "code",
   "execution_count": 7,
   "id": "b28b816e",
   "metadata": {},
   "outputs": [],
   "source": [
    "\n",
    "def backtest_strategy(trades):\n",
    "\n",
    "    \"\"\"\n",
    "    Function that backtests the trading strategy developed\n",
    "    above in vectorbt for a period of a month with minute resolution.\n",
    "    \"\"\"\n",
    "\n",
    "\n",
    "    portfolios = []\n",
    "\n",
    "    for asset_1, asset_2, spread, entries, exits in trades:\n",
    "        try:\n",
    "            portfolio = vbt.Portfolio.from_signals(\n",
    "                close=spread,\n",
    "                entries=entries,\n",
    "                exits=exits,\n",
    "                freq='1min'  # Assuming minute-level data\n",
    "            )\n",
    "            portfolios.append({\n",
    "                'pair': (asset_1, asset_2),\n",
    "                'portfolio': portfolio,\n",
    "                'sharpe_ratio': portfolio.sharpe_ratio(),\n",
    "                'total_return': portfolio.total_return(),\n",
    "                'max_drawdown':portfolio.max_drawdown()\n",
    "            })\n",
    "        except Exception as e:\n",
    "            print(f\"Error creating portfolio for pair {asset_1, asset_2}: {e}\")\n",
    "\n",
    "    return portfolios\n"
   ]
  },
  {
   "cell_type": "code",
   "execution_count": 8,
   "id": "f2db796e",
   "metadata": {},
   "outputs": [],
   "source": [
    "def optimize_strategy(cointegration_results, data_dict, window_frames, entry_zs, exit_zs):\n",
    "\n",
    "\n",
    "    \"\"\"\n",
    "    Optimisation strategy that finds the optimal windows, entries and exits that yield\n",
    "    the optimal total return.\n",
    "    \"\"\"\n",
    "    \n",
    "    best_results = []\n",
    "\n",
    "    for result in cointegration_results:\n",
    "        asset_1, asset_2, _, _ = result\n",
    "        best_sharpe_ratio = -float('inf')\n",
    "        best_total_return = 0\n",
    "        best_params = None\n",
    "        best_portfolio = None\n",
    "        \n",
    "        param_combinations = list(itertools.product(window_frames, entry_zs, exit_zs))\n",
    "        \n",
    "        for window_frame, entry_z, exit_z in param_combinations:\n",
    "            \n",
    "            \n",
    "            trades = trading_strategy([result], data_dict, entry_z, exit_z, window_frame)\n",
    "            portfolios = backtest_strategy(trades)\n",
    "\n",
    "            for portfolio_result in portfolios:\n",
    "                sharpe_ratio = portfolio_result['sharpe_ratio']\n",
    "                total_return = portfolio_result['total_return']\n",
    "                max_drawdown = portfolio_result['max_drawdown']\n",
    "                \n",
    "                if total_return > best_total_return:\n",
    "                    best_total_return = total_return\n",
    "                    best_params = (window_frame, entry_z, exit_z)\n",
    "                    best_portfolio = portfolio_result['portfolio']\n",
    "        \n",
    "        if best_portfolio is not None:\n",
    "            best_results.append({\n",
    "                'pair': (asset_1, asset_2),\n",
    "                'params': best_params,\n",
    "                'portfolio': best_portfolio,\n",
    "                'sharpe_ratio': best_sharpe_ratio\n",
    "            })\n",
    "    \n",
    "    return best_results\n",
    "\n"
   ]
  },
  {
   "cell_type": "code",
   "execution_count": 9,
   "id": "b3bbae6e",
   "metadata": {},
   "outputs": [],
   "source": [
    "# Define the hyperparameter grid that we want to optimise on.\n",
    "\n",
    "window_frames = np.arange(10,80,10)\n",
    "entry_zs = np.linspace(1.5,2.5,10)\n",
    "exit_zs = np.linspace(0.5,1,10)\n",
    "\n",
    "# Optimize the strategy.\n",
    "results = optimize_strategy(EG_results, data_dict, window_frames, entry_zs, exit_zs)\n",
    "\n",
    "# Print the stats for the best performing portfolio for every trading pair based on the returns.\n",
    "for result in results:\n",
    "    params = result['params']\n",
    "    portfolio = result['portfolio']\n",
    "    sharpe_ratio = result['sharpe_ratio']\n",
    "\n",
    "    print(portfolio.stats())"
   ]
  }
 ],
 "metadata": {
  "kernelspec": {
   "display_name": "Python 3 (ipykernel)",
   "language": "python",
   "name": "python3"
  },
  "language_info": {
   "codemirror_mode": {
    "name": "ipython",
    "version": 3
   },
   "file_extension": ".py",
   "mimetype": "text/x-python",
   "name": "python",
   "nbconvert_exporter": "python",
   "pygments_lexer": "ipython3",
   "version": "3.12.4"
  }
 },
 "nbformat": 4,
 "nbformat_minor": 5
}
